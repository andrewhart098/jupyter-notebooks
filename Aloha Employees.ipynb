{
 "cells": [
  {
   "cell_type": "code",
   "execution_count": null,
   "metadata": {
    "collapsed": true
   },
   "outputs": [],
   "source": [
    "# Exploring 13,000 employees that we've transmitted from Aloha\n",
    "\n",
    "import pandas as pd\n",
    "import matplotlib.pyplot as plt\n",
    "import seaborn as sns\n",
    "%matplotlib inline"
   ]
  },
  {
   "cell_type": "code",
   "execution_count": 2,
   "metadata": {
    "collapsed": false
   },
   "outputs": [],
   "source": [
    "emp = pd.read_csv('../data/aloha_employees.csv');"
   ]
  },
  {
   "cell_type": "code",
   "execution_count": 3,
   "metadata": {
    "collapsed": false,
    "scrolled": true
   },
   "outputs": [
    {
     "data": {
      "text/html": [
       "<div>\n",
       "<table border=\"1\" class=\"dataframe\">\n",
       "  <thead>\n",
       "    <tr style=\"text-align: right;\">\n",
       "      <th></th>\n",
       "      <th>Zip</th>\n",
       "      <th>JobCode1</th>\n",
       "      <th>JobCode2</th>\n",
       "      <th>JobCode3</th>\n",
       "      <th>JobCode4</th>\n",
       "      <th>PayRate1</th>\n",
       "      <th>PayRate2</th>\n",
       "      <th>PayRate3</th>\n",
       "      <th>Terminated</th>\n",
       "      <th>ZapID</th>\n",
       "      <th>ReHire</th>\n",
       "      <th>Married</th>\n",
       "      <th>NumDependants</th>\n",
       "    </tr>\n",
       "  </thead>\n",
       "  <tbody>\n",
       "    <tr>\n",
       "      <th>count</th>\n",
       "      <td>13790.000000</td>\n",
       "      <td>13790.000000</td>\n",
       "      <td>13790.000000</td>\n",
       "      <td>13790.000000</td>\n",
       "      <td>13790.000000</td>\n",
       "      <td>13790.000000</td>\n",
       "      <td>13790.000000</td>\n",
       "      <td>13790.000000</td>\n",
       "      <td>13790.000000</td>\n",
       "      <td>13790.000000</td>\n",
       "      <td>13790.000000</td>\n",
       "      <td>13790.000000</td>\n",
       "      <td>13790.000000</td>\n",
       "    </tr>\n",
       "    <tr>\n",
       "      <th>mean</th>\n",
       "      <td>69844.309355</td>\n",
       "      <td>93.363452</td>\n",
       "      <td>102.623060</td>\n",
       "      <td>66.583466</td>\n",
       "      <td>42.800000</td>\n",
       "      <td>6.502302</td>\n",
       "      <td>3.587255</td>\n",
       "      <td>1.690547</td>\n",
       "      <td>0.665845</td>\n",
       "      <td>1.613053</td>\n",
       "      <td>0.089558</td>\n",
       "      <td>0.219434</td>\n",
       "      <td>0.180276</td>\n",
       "    </tr>\n",
       "    <tr>\n",
       "      <th>std</th>\n",
       "      <td>26978.232926</td>\n",
       "      <td>665.952638</td>\n",
       "      <td>1059.495467</td>\n",
       "      <td>800.822690</td>\n",
       "      <td>876.165766</td>\n",
       "      <td>3.611012</td>\n",
       "      <td>3.865995</td>\n",
       "      <td>3.266108</td>\n",
       "      <td>0.471711</td>\n",
       "      <td>3.192102</td>\n",
       "      <td>0.285557</td>\n",
       "      <td>0.478108</td>\n",
       "      <td>0.759203</td>\n",
       "    </tr>\n",
       "    <tr>\n",
       "      <th>min</th>\n",
       "      <td>0.000000</td>\n",
       "      <td>0.000000</td>\n",
       "      <td>0.000000</td>\n",
       "      <td>0.000000</td>\n",
       "      <td>0.000000</td>\n",
       "      <td>0.000000</td>\n",
       "      <td>0.000000</td>\n",
       "      <td>0.000000</td>\n",
       "      <td>0.000000</td>\n",
       "      <td>0.000000</td>\n",
       "      <td>0.000000</td>\n",
       "      <td>0.000000</td>\n",
       "      <td>0.000000</td>\n",
       "    </tr>\n",
       "    <tr>\n",
       "      <th>25%</th>\n",
       "      <td>70501.000000</td>\n",
       "      <td>6.000000</td>\n",
       "      <td>0.000000</td>\n",
       "      <td>0.000000</td>\n",
       "      <td>0.000000</td>\n",
       "      <td>2.130000</td>\n",
       "      <td>0.000000</td>\n",
       "      <td>0.000000</td>\n",
       "      <td>0.000000</td>\n",
       "      <td>0.000000</td>\n",
       "      <td>0.000000</td>\n",
       "      <td>0.000000</td>\n",
       "      <td>0.000000</td>\n",
       "    </tr>\n",
       "    <tr>\n",
       "      <th>50%</th>\n",
       "      <td>77055.000000</td>\n",
       "      <td>18.000000</td>\n",
       "      <td>4.000000</td>\n",
       "      <td>0.000000</td>\n",
       "      <td>0.000000</td>\n",
       "      <td>7.250000</td>\n",
       "      <td>2.130000</td>\n",
       "      <td>0.000000</td>\n",
       "      <td>1.000000</td>\n",
       "      <td>0.000000</td>\n",
       "      <td>0.000000</td>\n",
       "      <td>0.000000</td>\n",
       "      <td>0.000000</td>\n",
       "    </tr>\n",
       "    <tr>\n",
       "      <th>75%</th>\n",
       "      <td>77567.500000</td>\n",
       "      <td>50.000000</td>\n",
       "      <td>40.000000</td>\n",
       "      <td>1.000000</td>\n",
       "      <td>0.000000</td>\n",
       "      <td>9.000000</td>\n",
       "      <td>7.250000</td>\n",
       "      <td>2.130000</td>\n",
       "      <td>1.000000</td>\n",
       "      <td>1.000000</td>\n",
       "      <td>0.000000</td>\n",
       "      <td>0.000000</td>\n",
       "      <td>0.000000</td>\n",
       "    </tr>\n",
       "    <tr>\n",
       "      <th>max</th>\n",
       "      <td>809069.000000</td>\n",
       "      <td>9998.000000</td>\n",
       "      <td>64555.000000</td>\n",
       "      <td>64555.000000</td>\n",
       "      <td>64555.000000</td>\n",
       "      <td>24.000000</td>\n",
       "      <td>24.000000</td>\n",
       "      <td>24.000000</td>\n",
       "      <td>1.000000</td>\n",
       "      <td>31.000000</td>\n",
       "      <td>1.000000</td>\n",
       "      <td>3.000000</td>\n",
       "      <td>12.000000</td>\n",
       "    </tr>\n",
       "  </tbody>\n",
       "</table>\n",
       "</div>"
      ],
      "text/plain": [
       "                 Zip      JobCode1      JobCode2      JobCode3      JobCode4  \\\n",
       "count   13790.000000  13790.000000  13790.000000  13790.000000  13790.000000   \n",
       "mean    69844.309355     93.363452    102.623060     66.583466     42.800000   \n",
       "std     26978.232926    665.952638   1059.495467    800.822690    876.165766   \n",
       "min         0.000000      0.000000      0.000000      0.000000      0.000000   \n",
       "25%     70501.000000      6.000000      0.000000      0.000000      0.000000   \n",
       "50%     77055.000000     18.000000      4.000000      0.000000      0.000000   \n",
       "75%     77567.500000     50.000000     40.000000      1.000000      0.000000   \n",
       "max    809069.000000   9998.000000  64555.000000  64555.000000  64555.000000   \n",
       "\n",
       "           PayRate1      PayRate2      PayRate3    Terminated         ZapID  \\\n",
       "count  13790.000000  13790.000000  13790.000000  13790.000000  13790.000000   \n",
       "mean       6.502302      3.587255      1.690547      0.665845      1.613053   \n",
       "std        3.611012      3.865995      3.266108      0.471711      3.192102   \n",
       "min        0.000000      0.000000      0.000000      0.000000      0.000000   \n",
       "25%        2.130000      0.000000      0.000000      0.000000      0.000000   \n",
       "50%        7.250000      2.130000      0.000000      1.000000      0.000000   \n",
       "75%        9.000000      7.250000      2.130000      1.000000      1.000000   \n",
       "max       24.000000     24.000000     24.000000      1.000000     31.000000   \n",
       "\n",
       "             ReHire       Married  NumDependants  \n",
       "count  13790.000000  13790.000000   13790.000000  \n",
       "mean       0.089558      0.219434       0.180276  \n",
       "std        0.285557      0.478108       0.759203  \n",
       "min        0.000000      0.000000       0.000000  \n",
       "25%        0.000000      0.000000       0.000000  \n",
       "50%        0.000000      0.000000       0.000000  \n",
       "75%        0.000000      0.000000       0.000000  \n",
       "max        1.000000      3.000000      12.000000  "
      ]
     },
     "execution_count": 3,
     "metadata": {},
     "output_type": "execute_result"
    }
   ],
   "source": [
    "emp.describe()"
   ]
  },
  {
   "cell_type": "code",
   "execution_count": 76,
   "metadata": {
    "collapsed": false
   },
   "outputs": [
    {
     "data": {
      "text/plain": [
       "<matplotlib.text.Text at 0xee39048>"
      ]
     },
     "execution_count": 76,
     "metadata": {},
     "output_type": "execute_result"
    },
    {
     "data": {
      "image/png": "[encoded data removed]",
      "text/plain": [
       "<matplotlib.figure.Figure at 0xee3f828>"
      ]
     },
     "metadata": {},
     "output_type": "display_data"
    }
   ],
   "source": [
    "# Cleaning State data\n",
    "df = emp.replace(['LOUISIANA', 'LA.', 'TEXAS', 'Texas', 'HAWAII', 'COLORADO', 'ILLINOIS', 'GEORGIA', 'CO.', 'GEORIA', \n",
    "                  'CALIFORNIA', 'TX.', 'WASHINGTON', 'DENVER', 'GA.', 'GJ', 'MISSOURI', 'TXQ', 'NEW YORK', '7X', ' TX'], \n",
    "                 ['LA', 'LA', 'TX', 'TX', 'HI', 'CO', 'IL', 'GA', 'CO', 'GA', 'CA', 'TX', 'WA', 'CO', 'GA', 'GA', 'MO', 'TX', \n",
    "                  'NY', 'TX', 'TX']) \n",
    "emp_by_state = df.groupby(\"State\").size()\n",
    "emp_by_state = emp_by_state[emp_by_state >= 10]\n",
    "emp_by_state.sort_values(inplace=True)\n",
    "sns.set(style=\"whitegrid\", color_codes=True)\n",
    "sns.set_context(\"poster\")\n",
    "top_emp_by_state = sns.barplot(y=emp_by_state.values, x=emp_by_state.index)\n",
    "top_emp_by_state.set_title(\"Employees by State\", fontsize=18)"
   ]
  },
  {
   "cell_type": "code",
   "execution_count": null,
   "metadata": {
    "collapsed": false
   },
   "outputs": [],
   "source": []
  }
 ],
 "metadata": {
  "kernelspec": {
   "display_name": "Python 2",
   "language": "python",
   "name": "python2"
  },
  "language_info": {
   "codemirror_mode": {
    "name": "ipython",
    "version": 2
   },
   "file_extension": ".py",
   "mimetype": "text/x-python",
   "name": "python",
   "nbconvert_exporter": "python",
   "pygments_lexer": "ipython2",
   "version": "2.7.11"
  }
 },
 "nbformat": 4,
 "nbformat_minor": 0
}
